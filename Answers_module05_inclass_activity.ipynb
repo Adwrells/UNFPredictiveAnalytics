{
 "cells": [
  {
   "cell_type": "markdown",
   "id": "5ea690f0",
   "metadata": {},
   "source": [
    "# DAMO510 Module 05: In-Class Activity\n",
    "This notebook follows the steps outlined in the instructions for working with categorical variables and predictive modeling."
   ]
  },
  {
   "cell_type": "code",
   "execution_count": null,
   "id": "206b2bc2",
   "metadata": {},
   "outputs": [],
   "source": [
    "import pandas as pd\n",
    "import numpy as np\n",
    "from sklearn.model_selection import train_test_split\n",
    "from sklearn.preprocessing import OneHotEncoder, OrdinalEncoder\n",
    "from sklearn.linear_model import LinearRegression\n",
    "from sklearn.metrics import r2_score, mean_squared_error\n",
    "import statsmodels.api as sm"
   ]
  },
  {
   "cell_type": "code",
   "execution_count": null,
   "id": "1b000900",
   "metadata": {},
   "outputs": [],
   "source": [
    "# Load the dataset\n",
    "df_a = pd.read_csv('/mnt/data/student-por.csv', sep=';')\n",
    "df_a.head()"
   ]
  },
  {
   "cell_type": "code",
   "execution_count": null,
   "id": "9be31d1a",
   "metadata": {},
   "outputs": [],
   "source": [
    "# Data cleaning: drop duplicates and missing values\n",
    "df_b = df_a.copy()\n",
    "df_b = df_b.drop_duplicates()\n",
    "df_b = df_b.dropna()\n",
    "df_b.shape"
   ]
  },
  {
   "cell_type": "code",
   "execution_count": null,
   "id": "5ee9e9d4",
   "metadata": {},
   "outputs": [],
   "source": [
    "# Define target and features (drop G1 and G2 to avoid leakage)\n",
    "X = df_b.drop(['G3', 'G1', 'G2'], axis=1)\n",
    "y = df_b['G3']"
   ]
  },
  {
   "cell_type": "code",
   "execution_count": null,
   "id": "5fc9d1e1",
   "metadata": {},
   "outputs": [],
   "source": [
    "# Train-test split (no encoding yet)\n",
    "X_train, X_test, y_train, y_test = train_test_split(\n",
    "    X, y, test_size=0.2, random_state=42\n",
    ")\n",
    "print(\"Train/test shapes:\", X_train.shape, X_test.shape)"
   ]
  },
  {
   "cell_type": "code",
   "execution_count": null,
   "id": "5f49da08",
   "metadata": {},
   "outputs": [],
   "source": [
    "# Identify variable types\n",
    "nominal_vars = [\n",
    "    'school','sex','address','famsize','Pstatus','Mjob','Fjob','reason',\n",
    "    'guardian','schoolsup','famsup','paid','activities','nursery','higher',\n",
    "    'internet','romantic'\n",
    "]\n",
    "ordinal_vars = [\n",
    "    'Medu','Fedu','traveltime','studytime','failures','famrel','freetime',\n",
    "    'goout','Dalc','Walc','health'\n",
    "]\n",
    "numeric_vars = ['age', 'absences']\n"
   ]
  },
  {
   "cell_type": "code",
   "execution_count": null,
   "id": "9cd5e785",
   "metadata": {},
   "outputs": [],
   "source": [
    "# Encoding categorical variables\n",
    "ohe = OneHotEncoder(sparse=False, handle_unknown='ignore')\n",
    "ohe.fit(X_train[nominal_vars])\n",
    "X_train_nom = pd.DataFrame(\n",
    "    ohe.transform(X_train[nominal_vars]),\n",
    "    columns=ohe.get_feature_names_out(nominal_vars),\n",
    "    index=X_train.index\n",
    ")\n",
    "X_test_nom = pd.DataFrame(\n",
    "    ohe.transform(X_test[nominal_vars]),\n",
    "    columns=ohe.get_feature_names_out(nominal_vars),\n",
    "    index=X_test.index\n",
    ")\n",
    "\n",
    "ord_enc = OrdinalEncoder()\n",
    "ord_enc.fit(X_train[ordinal_vars])\n",
    "X_train_ord = pd.DataFrame(\n",
    "    ord_enc.transform(X_train[ordinal_vars]),\n",
    "    columns=ordinal_vars, index=X_train.index\n",
    ")\n",
    "X_test_ord = pd.DataFrame(\n",
    "    ord_enc.transform(X_test[ordinal_vars]),\n",
    "    columns=ordinal_vars, index=X_test.index\n",
    ")\n",
    "\n",
    "X_train_num = X_train[numeric_vars]\n",
    "X_test_num = X_test[numeric_vars]\n",
    "\n",
    "# Combine all features\n",
    "X_train_final = pd.concat([X_train_nom, X_train_ord, X_train_num], axis=1)\n",
    "X_test_final = pd.concat([X_test_nom, X_test_ord, X_test_num], axis=1)\n",
    "\n",
    "print(\"Final train/test shapes:\", X_train_final.shape, X_test_final.shape)"
   ]
  },
  {
   "cell_type": "code",
   "execution_count": null,
   "id": "58049fc8",
   "metadata": {},
   "outputs": [],
   "source": [
    "# Correlation analysis\n",
    "corr_matrix = df_b.corr()\n",
    "corr_with_target = corr_matrix['G3'].sort_values(ascending=False)\n",
    "print(corr_with_target)"
   ]
  },
  {
   "cell_type": "code",
   "execution_count": null,
   "id": "983f8b25",
   "metadata": {},
   "outputs": [],
   "source": [
    "# Linear regression with statsmodels\n",
    "model = sm.OLS(y_train, sm.add_constant(X_train_final)).fit()\n",
    "preds = model.predict(sm.add_constant(X_test_final))\n",
    "\n",
    "r2 = r2_score(y_test, preds)\n",
    "n = X_test_final.shape[0]\n",
    "k = X_test_final.shape[1]\n",
    "adj_r2 = 1 - (1 - r2) * (n - 1) / (n - k - 1)\n",
    "rmse = mean_squared_error(y_test, preds, squared=False)\n",
    "\n",
    "print(f\"R2: {r2:.4f}\")\n",
    "print(f\"Adjusted R2: {adj_r2:.4f}\")\n",
    "print(f\"RMSE: {rmse:.4f}\")\n",
    "\n",
    "print(model.summary())"
   ]
  },
  {
   "cell_type": "code",
   "execution_count": null,
   "id": "2dcb2778",
   "metadata": {},
   "outputs": [],
   "source": [
    "# ANOVA test\n",
    "anova_results = sm.stats.anova_lm(model, typ=2)\n",
    "print(anova_results)"
   ]
  }
 ],
 "metadata": {
  "language_info": {
   "name": "python"
  }
 },
 "nbformat": 4,
 "nbformat_minor": 5
}
