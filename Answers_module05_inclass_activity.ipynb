{
 "cells": [
  {
   "cell_type": "markdown",
   "id": "5ea690f0",
   "metadata": {},
   "source": [
    "# DAMO510 Module 05: In-Class Activity\n",
    "This notebook follows the steps outlined in the instructions for working with categorical variables and predictive modeling."
   ]
  },
  {
   "cell_type": "code",
   "execution_count": 4,
   "id": "206b2bc2",
   "metadata": {},
   "outputs": [],
   "source": [
    "import pandas as pd\n",
    "import numpy as np\n",
    "from sklearn.model_selection import train_test_split\n",
    "from sklearn.preprocessing import OneHotEncoder, OrdinalEncoder\n",
    "from sklearn.linear_model import LinearRegression\n",
    "from sklearn.metrics import r2_score, mean_squared_error\n",
    "import statsmodels.api as sm"
   ]
  },
  {
   "cell_type": "code",
   "execution_count": 5,
   "id": "1b000900",
   "metadata": {},
   "outputs": [
    {
     "data": {
      "text/html": [
       "<div>\n",
       "<style scoped>\n",
       "    .dataframe tbody tr th:only-of-type {\n",
       "        vertical-align: middle;\n",
       "    }\n",
       "\n",
       "    .dataframe tbody tr th {\n",
       "        vertical-align: top;\n",
       "    }\n",
       "\n",
       "    .dataframe thead th {\n",
       "        text-align: right;\n",
       "    }\n",
       "</style>\n",
       "<table border=\"1\" class=\"dataframe\">\n",
       "  <thead>\n",
       "    <tr style=\"text-align: right;\">\n",
       "      <th></th>\n",
       "      <th>school</th>\n",
       "      <th>sex</th>\n",
       "      <th>age</th>\n",
       "      <th>address</th>\n",
       "      <th>famsize</th>\n",
       "      <th>Pstatus</th>\n",
       "      <th>Medu</th>\n",
       "      <th>Fedu</th>\n",
       "      <th>Mjob</th>\n",
       "      <th>Fjob</th>\n",
       "      <th>...</th>\n",
       "      <th>famrel</th>\n",
       "      <th>freetime</th>\n",
       "      <th>goout</th>\n",
       "      <th>Dalc</th>\n",
       "      <th>Walc</th>\n",
       "      <th>health</th>\n",
       "      <th>absences</th>\n",
       "      <th>G1</th>\n",
       "      <th>G2</th>\n",
       "      <th>G3</th>\n",
       "    </tr>\n",
       "  </thead>\n",
       "  <tbody>\n",
       "    <tr>\n",
       "      <th>0</th>\n",
       "      <td>GP</td>\n",
       "      <td>F</td>\n",
       "      <td>18</td>\n",
       "      <td>U</td>\n",
       "      <td>GT3</td>\n",
       "      <td>A</td>\n",
       "      <td>4</td>\n",
       "      <td>4</td>\n",
       "      <td>at_home</td>\n",
       "      <td>teacher</td>\n",
       "      <td>...</td>\n",
       "      <td>4</td>\n",
       "      <td>3</td>\n",
       "      <td>4</td>\n",
       "      <td>1</td>\n",
       "      <td>1</td>\n",
       "      <td>3</td>\n",
       "      <td>4</td>\n",
       "      <td>0</td>\n",
       "      <td>11</td>\n",
       "      <td>11</td>\n",
       "    </tr>\n",
       "    <tr>\n",
       "      <th>1</th>\n",
       "      <td>GP</td>\n",
       "      <td>F</td>\n",
       "      <td>17</td>\n",
       "      <td>U</td>\n",
       "      <td>GT3</td>\n",
       "      <td>T</td>\n",
       "      <td>1</td>\n",
       "      <td>1</td>\n",
       "      <td>at_home</td>\n",
       "      <td>other</td>\n",
       "      <td>...</td>\n",
       "      <td>5</td>\n",
       "      <td>3</td>\n",
       "      <td>3</td>\n",
       "      <td>1</td>\n",
       "      <td>1</td>\n",
       "      <td>3</td>\n",
       "      <td>2</td>\n",
       "      <td>9</td>\n",
       "      <td>11</td>\n",
       "      <td>11</td>\n",
       "    </tr>\n",
       "    <tr>\n",
       "      <th>2</th>\n",
       "      <td>GP</td>\n",
       "      <td>F</td>\n",
       "      <td>15</td>\n",
       "      <td>U</td>\n",
       "      <td>LE3</td>\n",
       "      <td>T</td>\n",
       "      <td>1</td>\n",
       "      <td>1</td>\n",
       "      <td>at_home</td>\n",
       "      <td>other</td>\n",
       "      <td>...</td>\n",
       "      <td>4</td>\n",
       "      <td>3</td>\n",
       "      <td>2</td>\n",
       "      <td>2</td>\n",
       "      <td>3</td>\n",
       "      <td>3</td>\n",
       "      <td>6</td>\n",
       "      <td>12</td>\n",
       "      <td>13</td>\n",
       "      <td>12</td>\n",
       "    </tr>\n",
       "    <tr>\n",
       "      <th>3</th>\n",
       "      <td>GP</td>\n",
       "      <td>F</td>\n",
       "      <td>15</td>\n",
       "      <td>U</td>\n",
       "      <td>GT3</td>\n",
       "      <td>T</td>\n",
       "      <td>4</td>\n",
       "      <td>2</td>\n",
       "      <td>health</td>\n",
       "      <td>services</td>\n",
       "      <td>...</td>\n",
       "      <td>3</td>\n",
       "      <td>2</td>\n",
       "      <td>2</td>\n",
       "      <td>1</td>\n",
       "      <td>1</td>\n",
       "      <td>5</td>\n",
       "      <td>0</td>\n",
       "      <td>14</td>\n",
       "      <td>14</td>\n",
       "      <td>14</td>\n",
       "    </tr>\n",
       "    <tr>\n",
       "      <th>4</th>\n",
       "      <td>GP</td>\n",
       "      <td>F</td>\n",
       "      <td>16</td>\n",
       "      <td>U</td>\n",
       "      <td>GT3</td>\n",
       "      <td>T</td>\n",
       "      <td>3</td>\n",
       "      <td>3</td>\n",
       "      <td>other</td>\n",
       "      <td>other</td>\n",
       "      <td>...</td>\n",
       "      <td>4</td>\n",
       "      <td>3</td>\n",
       "      <td>2</td>\n",
       "      <td>1</td>\n",
       "      <td>2</td>\n",
       "      <td>5</td>\n",
       "      <td>0</td>\n",
       "      <td>11</td>\n",
       "      <td>13</td>\n",
       "      <td>13</td>\n",
       "    </tr>\n",
       "  </tbody>\n",
       "</table>\n",
       "<p>5 rows × 33 columns</p>\n",
       "</div>"
      ],
      "text/plain": [
       "  school sex  age address famsize Pstatus  Medu  Fedu     Mjob      Fjob  ...  \\\n",
       "0     GP   F   18       U     GT3       A     4     4  at_home   teacher  ...   \n",
       "1     GP   F   17       U     GT3       T     1     1  at_home     other  ...   \n",
       "2     GP   F   15       U     LE3       T     1     1  at_home     other  ...   \n",
       "3     GP   F   15       U     GT3       T     4     2   health  services  ...   \n",
       "4     GP   F   16       U     GT3       T     3     3    other     other  ...   \n",
       "\n",
       "  famrel freetime  goout  Dalc  Walc health absences  G1  G2  G3  \n",
       "0      4        3      4     1     1      3        4   0  11  11  \n",
       "1      5        3      3     1     1      3        2   9  11  11  \n",
       "2      4        3      2     2     3      3        6  12  13  12  \n",
       "3      3        2      2     1     1      5        0  14  14  14  \n",
       "4      4        3      2     1     2      5        0  11  13  13  \n",
       "\n",
       "[5 rows x 33 columns]"
      ]
     },
     "execution_count": 5,
     "metadata": {},
     "output_type": "execute_result"
    }
   ],
   "source": [
    "# Load the dataset\n",
    "df_a = pd.read_csv('student-por.csv', sep=';')\n",
    "df_a.head()"
   ]
  },
  {
   "cell_type": "code",
   "execution_count": 6,
   "id": "9be31d1a",
   "metadata": {},
   "outputs": [
    {
     "data": {
      "text/plain": [
       "(649, 33)"
      ]
     },
     "execution_count": 6,
     "metadata": {},
     "output_type": "execute_result"
    }
   ],
   "source": [
    "# Data cleaning: drop duplicates and missing values\n",
    "df_b = df_a.copy()\n",
    "df_b = df_b.drop_duplicates()\n",
    "df_b = df_b.dropna()\n",
    "df_b.shape"
   ]
  },
  {
   "cell_type": "code",
   "execution_count": 7,
   "id": "5ee9e9d4",
   "metadata": {},
   "outputs": [],
   "source": [
    "# Define target and features (drop G1 and G2 to avoid leakage)\n",
    "X = df_b.drop(['G3', 'G1', 'G2'], axis=1)\n",
    "y = df_b['G3']"
   ]
  },
  {
   "cell_type": "code",
   "execution_count": 8,
   "id": "5fc9d1e1",
   "metadata": {},
   "outputs": [
    {
     "name": "stdout",
     "output_type": "stream",
     "text": [
      "Train/test shapes: (519, 30) (130, 30)\n"
     ]
    }
   ],
   "source": [
    "# Train-test split (no encoding yet)\n",
    "X_train, X_test, y_train, y_test = train_test_split(\n",
    "    X, y, test_size=0.2, random_state=42\n",
    ")\n",
    "print(\"Train/test shapes:\", X_train.shape, X_test.shape)"
   ]
  },
  {
   "cell_type": "code",
   "execution_count": 9,
   "id": "5f49da08",
   "metadata": {},
   "outputs": [],
   "source": [
    "# Identify variable types\n",
    "nominal_vars = [\n",
    "    'school','sex','address','famsize','Pstatus','Mjob','Fjob','reason',\n",
    "    'guardian','schoolsup','famsup','paid','activities','nursery','higher',\n",
    "    'internet','romantic'\n",
    "]\n",
    "ordinal_vars = [\n",
    "    'Medu','Fedu','traveltime','studytime','failures','famrel','freetime',\n",
    "    'goout','Dalc','Walc','health'\n",
    "]\n",
    "numeric_vars = ['age', 'absences']\n"
   ]
  },
  {
   "cell_type": "code",
   "execution_count": 10,
   "id": "9cd5e785",
   "metadata": {},
   "outputs": [
    {
     "ename": "TypeError",
     "evalue": "OneHotEncoder.__init__() got an unexpected keyword argument 'sparse'",
     "output_type": "error",
     "traceback": [
      "\u001b[1;31m---------------------------------------------------------------------------\u001b[0m",
      "\u001b[1;31mTypeError\u001b[0m                                 Traceback (most recent call last)",
      "Cell \u001b[1;32mIn[10], line 2\u001b[0m\n\u001b[0;32m      1\u001b[0m \u001b[38;5;66;03m# Encoding categorical variables\u001b[39;00m\n\u001b[1;32m----> 2\u001b[0m ohe \u001b[38;5;241m=\u001b[39m OneHotEncoder(sparse\u001b[38;5;241m=\u001b[39m\u001b[38;5;28;01mFalse\u001b[39;00m, handle_unknown\u001b[38;5;241m=\u001b[39m\u001b[38;5;124m'\u001b[39m\u001b[38;5;124mignore\u001b[39m\u001b[38;5;124m'\u001b[39m)\n\u001b[0;32m      3\u001b[0m ohe\u001b[38;5;241m.\u001b[39mfit(X_train[nominal_vars])\n\u001b[0;32m      4\u001b[0m X_train_nom \u001b[38;5;241m=\u001b[39m pd\u001b[38;5;241m.\u001b[39mDataFrame(\n\u001b[0;32m      5\u001b[0m     ohe\u001b[38;5;241m.\u001b[39mtransform(X_train[nominal_vars]),\n\u001b[0;32m      6\u001b[0m     columns\u001b[38;5;241m=\u001b[39mohe\u001b[38;5;241m.\u001b[39mget_feature_names_out(nominal_vars),\n\u001b[0;32m      7\u001b[0m     index\u001b[38;5;241m=\u001b[39mX_train\u001b[38;5;241m.\u001b[39mindex\n\u001b[0;32m      8\u001b[0m )\n",
      "\u001b[1;31mTypeError\u001b[0m: OneHotEncoder.__init__() got an unexpected keyword argument 'sparse'"
     ]
    }
   ],
   "source": [
    "# Encoding categorical variables\n",
    "ohe = OneHotEncoder(sparse=False, handle_unknown='ignore')\n",
    "ohe.fit(X_train[nominal_vars])\n",
    "X_train_nom = pd.DataFrame(\n",
    "    ohe.transform(X_train[nominal_vars]),\n",
    "    columns=ohe.get_feature_names_out(nominal_vars),\n",
    "    index=X_train.index\n",
    ")\n",
    "X_test_nom = pd.DataFrame(\n",
    "    ohe.transform(X_test[nominal_vars]),\n",
    "    columns=ohe.get_feature_names_out(nominal_vars),\n",
    "    index=X_test.index\n",
    ")\n",
    "\n",
    "ord_enc = OrdinalEncoder()\n",
    "ord_enc.fit(X_train[ordinal_vars])\n",
    "X_train_ord = pd.DataFrame(\n",
    "    ord_enc.transform(X_train[ordinal_vars]),\n",
    "    columns=ordinal_vars, index=X_train.index\n",
    ")\n",
    "X_test_ord = pd.DataFrame(\n",
    "    ord_enc.transform(X_test[ordinal_vars]),\n",
    "    columns=ordinal_vars, index=X_test.index\n",
    ")\n",
    "\n",
    "X_train_num = X_train[numeric_vars]\n",
    "X_test_num = X_test[numeric_vars]\n",
    "\n",
    "# Combine all features\n",
    "X_train_final = pd.concat([X_train_nom, X_train_ord, X_train_num], axis=1)\n",
    "X_test_final = pd.concat([X_test_nom, X_test_ord, X_test_num], axis=1)\n",
    "\n",
    "print(\"Final train/test shapes:\", X_train_final.shape, X_test_final.shape)"
   ]
  },
  {
   "cell_type": "code",
   "execution_count": null,
   "id": "58049fc8",
   "metadata": {},
   "outputs": [],
   "source": [
    "# Correlation analysis\n",
    "corr_matrix = df_b.corr()\n",
    "corr_with_target = corr_matrix['G3'].sort_values(ascending=False)\n",
    "print(corr_with_target)"
   ]
  },
  {
   "cell_type": "code",
   "execution_count": null,
   "id": "983f8b25",
   "metadata": {},
   "outputs": [],
   "source": [
    "# Linear regression with statsmodels\n",
    "model = sm.OLS(y_train, sm.add_constant(X_train_final)).fit()\n",
    "preds = model.predict(sm.add_constant(X_test_final))\n",
    "\n",
    "r2 = r2_score(y_test, preds)\n",
    "n = X_test_final.shape[0]\n",
    "k = X_test_final.shape[1]\n",
    "adj_r2 = 1 - (1 - r2) * (n - 1) / (n - k - 1)\n",
    "rmse = mean_squared_error(y_test, preds, squared=False)\n",
    "\n",
    "print(f\"R2: {r2:.4f}\")\n",
    "print(f\"Adjusted R2: {adj_r2:.4f}\")\n",
    "print(f\"RMSE: {rmse:.4f}\")\n",
    "\n",
    "print(model.summary())"
   ]
  },
  {
   "cell_type": "code",
   "execution_count": null,
   "id": "2dcb2778",
   "metadata": {},
   "outputs": [],
   "source": [
    "# ANOVA test\n",
    "anova_results = sm.stats.anova_lm(model, typ=2)\n",
    "print(anova_results)"
   ]
  }
 ],
 "metadata": {
  "kernelspec": {
   "display_name": "base",
   "language": "python",
   "name": "python3"
  },
  "language_info": {
   "codemirror_mode": {
    "name": "ipython",
    "version": 3
   },
   "file_extension": ".py",
   "mimetype": "text/x-python",
   "name": "python",
   "nbconvert_exporter": "python",
   "pygments_lexer": "ipython3",
   "version": "3.12.7"
  }
 },
 "nbformat": 4,
 "nbformat_minor": 5
}
